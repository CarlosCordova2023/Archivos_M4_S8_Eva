{
  "nbformat": 4,
  "nbformat_minor": 0,
  "metadata": {
    "colab": {
      "provenance": [],
      "authorship_tag": "ABX9TyM5YVXLMmhOfwIAJ6HlIQM0",
      "include_colab_link": true
    },
    "kernelspec": {
      "name": "python3",
      "display_name": "Python 3"
    },
    "language_info": {
      "name": "python"
    }
  },
  "cells": [
    {
      "cell_type": "markdown",
      "metadata": {
        "id": "view-in-github",
        "colab_type": "text"
      },
      "source": [
        "<a href=\"https://colab.research.google.com/github/CarlosCordova2023/Archivos_M4_S8_Eva/blob/main/ArchivosLeer.ipynb\" target=\"_parent\"><img src=\"https://colab.research.google.com/assets/colab-badge.svg\" alt=\"Open In Colab\"/></a>"
      ]
    },
    {
      "cell_type": "code",
      "execution_count": 3,
      "metadata": {
        "colab": {
          "base_uri": "https://localhost:8080/"
        },
        "id": "0I8YZUnbpWEv",
        "outputId": "62096cf4-e1c0-4858-9e00-cf81bca91b1c"
      },
      "outputs": [
        {
          "output_type": "stream",
          "name": "stdout",
          "text": [
            "El archivo informacion.txt ya existe, ha sido creado previamente.\n",
            "Datos de información en la línea 1\n",
            "Datos de información en la línea 2\n",
            "Datos de información en la línea 3\n",
            "Datos de información en la línea 4\n",
            "Datos de información en la línea 5\n"
          ]
        }
      ],
      "source": [
        "import os\n",
        "\n",
        "def verificar_y_leer_archivo(nombre_archivo):\n",
        "    if os.path.exists(nombre_archivo):\n",
        "        print(f\"El archivo {nombre_archivo} ya existe, ha sido creado previamente.\")\n",
        "        with open(nombre_archivo, 'r') as archivo:\n",
        "            contenido = archivo.readlines()\n",
        "            for linea in contenido:\n",
        "                print(linea.strip())\n",
        "    else:\n",
        "        print(f\"El archivo {nombre_archivo} no existe.\")\n",
        "\n",
        "def main():\n",
        "    nombre_archivo = \"informacion.txt\"\n",
        "    verificar_y_leer_archivo(nombre_archivo)\n",
        "\n",
        "if __name__ == \"__main__\":\n",
        "    main()\n"
      ]
    }
  ]
}